{
 "cells": [
  {
   "cell_type": "code",
   "execution_count": null,
   "id": "504cce22",
   "metadata": {},
   "outputs": [
    {
     "name": "stdout",
     "output_type": "stream",
     "text": [
      "Sin pareja\n",
      "Sin pareja\n",
      "Con pareja\n"
     ]
    }
   ],
   "source": [
    "#Uso de bucles y condicionales\n",
    "diccionario= {\n",
    "    \"Estado Civil\": pd.Series([\"Soltero\", \"Viudo\", \"Casado\"], index=[\"Juan\", \"Pedro\", \"Maria\"])}\n",
    "\n",
    "data=pd.DataFrame(diccionario)\n",
    "\n",
    "for i in data[\"Estado Civil\"]:\n",
    "    if i==\"Casado\":\n",
    "        print(\"Con pareja\")\n",
    "    else: print(\"Sin pareja\")"
   ]
  },
  {
   "cell_type": "code",
   "execution_count": null,
   "id": "1431c708",
   "metadata": {},
   "outputs": [],
   "source": []
  }
 ],
 "metadata": {
  "kernelspec": {
   "display_name": "Python 3",
   "language": "python",
   "name": "python3"
  },
  "language_info": {
   "codemirror_mode": {
    "name": "ipython",
    "version": 3
   },
   "file_extension": ".py",
   "mimetype": "text/x-python",
   "name": "python",
   "nbconvert_exporter": "python",
   "pygments_lexer": "ipython3",
   "version": "3.12.1"
  }
 },
 "nbformat": 4,
 "nbformat_minor": 5
}
