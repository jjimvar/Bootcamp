{
 "cells": [
  {
   "cell_type": "markdown",
   "id": "f9dd30a0",
   "metadata": {},
   "source": [
    "Inviertes 10,000 € en un fondo. El fondo genera una rentabilidad del 1% mensual (compuesta). Queremos saber:\n",
    "\n",
    "- ¿Cuántos meses tardarás en alcanzar un capital final de al menos 20,000 €?\n",
    "\n",
    "- ¿Cuánto habrás acumulado exactamente cuando termines?"
   ]
  },
  {
   "cell_type": "markdown",
   "id": "d5647621",
   "metadata": {},
   "source": [
    "## Representamos horizonte temporal\n",
    "\n",
    "|0| m1 | m2 | ... |mn|\n",
    "|---| --- | --- | --- |---|\n",
    "|-10000| 10000*1.01 | 10000*1.01^2 | ... |10000*1.01^n|\n",
    "\n",
    "De esta forma podemos definir la igualdad para determinar el numero de meses para alcanzas los 20000€:\n",
    "\n",
    "$10000*1.01^n>20000$\n",
    "\n",
    "$1,01^n>2$ \n",
    "\n",
    "$n>ln(2)/ln(1.01)$\n"
   ]
  },
  {
   "cell_type": "code",
   "execution_count": 16,
   "id": "53a2794d",
   "metadata": {},
   "outputs": [
    {
     "name": "stdout",
     "output_type": "stream",
     "text": [
      "Objetivo alcanzado en 70 meses\n",
      "Capital final acumulado: 20067.63 €\n"
     ]
    }
   ],
   "source": [
    "#SOLUCIÓN 1: Bucle con while\n",
    "c0=10000\n",
    "cn=20000\n",
    "ci=c0\n",
    "meses=0\n",
    "fc=1.01\n",
    "\n",
    "while cn>ci:\n",
    "    ci*=fc\n",
    "    meses += 1\n",
    "\n",
    "print(f\"Objetivo alcanzado en {meses} meses\")\n",
    "'''\n",
    "El prefijo f delante de las comillas indica que es una f-string.\n",
    "\n",
    "Lo que pongas entre {} se evalúa como código Python y se inserta en la cadena.'''\n",
    "\n",
    "print(f\"Capital final acumulado: {ci:.2f} €\")\n",
    "\n",
    "#:.2f significa “formatear como número decimal con 2 cifras después del punto”\n"
   ]
  },
  {
   "cell_type": "code",
   "execution_count": 36,
   "id": "e3ca01d3",
   "metadata": {},
   "outputs": [
    {
     "name": "stdout",
     "output_type": "stream",
     "text": [
      "Objetivo exacto alcanzado en 69 meses y 20 dias\n"
     ]
    }
   ],
   "source": [
    "#Solución 2: más concreta \n",
    "\n",
    "import numpy as np\n",
    "\n",
    "n=((np.log(2))/(np.log(1.01)))\n",
    "\n",
    "meses=69\n",
    "dias=20\n",
    "ci=10000*fc**69.6607\n",
    "\n",
    "print(f\"Objetivo exacto alcanzado en {meses} meses y {dias} dias\")\n"
   ]
  }
 ],
 "metadata": {
  "kernelspec": {
   "display_name": "Python 3",
   "language": "python",
   "name": "python3"
  },
  "language_info": {
   "codemirror_mode": {
    "name": "ipython",
    "version": 3
   },
   "file_extension": ".py",
   "mimetype": "text/x-python",
   "name": "python",
   "nbconvert_exporter": "python",
   "pygments_lexer": "ipython3",
   "version": "3.12.1"
  }
 },
 "nbformat": 4,
 "nbformat_minor": 5
}
