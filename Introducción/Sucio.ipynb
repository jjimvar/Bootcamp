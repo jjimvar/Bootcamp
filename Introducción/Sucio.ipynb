{
 "cells": [
  {
   "cell_type": "markdown",
   "id": "dfafca31",
   "metadata": {},
   "source": [
    "To learn:\n",
    "\n",
    "- return/print\n",
    "- global/local"
   ]
  },
  {
   "cell_type": "code",
   "execution_count": null,
   "id": "78143b92",
   "metadata": {},
   "outputs": [
    {
     "name": "stdout",
     "output_type": "stream",
     "text": [
      "[1050.0, 2625.0, 4200.0, 6300.0]\n"
     ]
    }
   ],
   "source": [
    "#Map nos permite ejercutar una operación establecida por una función en una sola línea\n",
    "inversiones = [1000, 2500, 4000, 6000]\n",
    "\n",
    "def retorno(c):\n",
    "    return c*1.05\n",
    "\n",
    "result=map(retorno, inversiones)\n",
    "print(list(result))"
   ]
  },
  {
   "cell_type": "code",
   "execution_count": 4,
   "id": "adae3473",
   "metadata": {},
   "outputs": [
    {
     "name": "stdout",
     "output_type": "stream",
     "text": [
      "[1050, 2120, 3200]\n"
     ]
    }
   ],
   "source": [
    "#Calculamos el valor presente de diversas inversiones usando map y lambda\n",
    "capital = [1000, 2000, 3000]\n",
    "intereses = [50, 120, 200]\n",
    "\n",
    "c=list(map(lambda c,i: c+i, capital, intereses))\n",
    "print(c)"
   ]
  },
  {
   "cell_type": "code",
   "execution_count": null,
   "id": "20e2fd9e",
   "metadata": {},
   "outputs": [
    {
     "data": {
      "text/plain": [
       "['eur', 'Euro']"
      ]
     },
     "execution_count": 15,
     "metadata": {},
     "output_type": "execute_result"
    }
   ],
   "source": [
    "#De una lista de valores, puedo bucar los activos por su nombre haciendo uso de filter.\n",
    "activos=[\"Apple\", \"Nvidia\", \"Amazon\", \"Google\"]\n",
    "\n",
    "def buscar(i):\n",
    "    return i.startswith(\"A\")\n",
    "\n",
    "act_a=list(filter(buscar, activos))\n",
    "\n",
    "#De una lista de divisas, podemos filtrar la que contenga el euro:\n",
    "divisas = [\"USD\", \"YEN\", \"dollar\", \"Euro\", \"PESO\"]\n",
    "\n",
    "moneda=list(filter(lambda x: \"eur\" in x.lower(), divisas)) #.lower() pasa string mayúscula a minuscula\n",
    "\n",
    "moneda"
   ]
  }
 ],
 "metadata": {
  "kernelspec": {
   "display_name": "Python 3",
   "language": "python",
   "name": "python3"
  },
  "language_info": {
   "codemirror_mode": {
    "name": "ipython",
    "version": 3
   },
   "file_extension": ".py",
   "mimetype": "text/x-python",
   "name": "python",
   "nbconvert_exporter": "python",
   "pygments_lexer": "ipython3",
   "version": "3.12.1"
  }
 },
 "nbformat": 4,
 "nbformat_minor": 5
}
