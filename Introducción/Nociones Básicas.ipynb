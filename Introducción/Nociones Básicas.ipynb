{
 "cells": [
  {
   "cell_type": "code",
   "execution_count": null,
   "id": "4fc1c71a",
   "metadata": {},
   "outputs": [
    {
     "name": "stdout",
     "output_type": "stream",
     "text": [
      "Juan se encuentra sin pareja\n",
      "Pedro se encuentra sin pareja\n",
      "Maria se encuentra con pareja\n"
     ]
    }
   ],
   "source": [
    "import pandas as pd\n",
    "#Ejemplo 1: Bucle para mostrar el estado civil de forma abreviada\n",
    "diccionario= {\n",
    "    \"Estado Civil\": pd.Series([\"Soltero\", \"Viudo\", \"Casado\"], index=[\"Juan\", \"Pedro\", \"Maria\"])}\n",
    "\n",
    "data=pd.DataFrame(diccionario)\n",
    "\n",
    "for i in data.index:\n",
    "    if data[\"Estado Civil\"].loc[i]==\"Casado\":\n",
    "        print(i, \"se encuentra con pareja\")\n",
    "    else: print(i, \"se encuentra sin pareja\")"
   ]
  },
  {
   "cell_type": "code",
   "execution_count": 47,
   "id": "4741746f",
   "metadata": {},
   "outputs": [
    {
     "name": "stdout",
     "output_type": "stream",
     "text": [
      "Juan : Estudia Node.js para desarrollo de Web en Backend\n",
      "Ana : Estudia JupyterNotebook para desarrollo de Datos\n",
      "Alfredo : Estudia Kotlin para desarrollo de Aplicaciones en Android\n"
     ]
    }
   ],
   "source": [
    "import pandas as pd\n",
    "#Ejemplo 2: Algoritmo para decidir que lenguaje de progrmación estudiar\n",
    "''' Diagrama de decisión\n",
    "\n",
    "¿Quieres desarrollar software?\n",
    "├── Sí → ¿Web o aplicaciones?\n",
    "│ ├── Web → ¿Frontend o Backend?\n",
    "│ │ ├── Frontend → JavaScript\n",
    "│ │ └── Backend → ¿Te gusta Python?\n",
    "│ │ ├── Sí → Python\n",
    "│ │ └── No → Node.js\n",
    "│ └── Aplicaciones → ¿Móviles o Escritorio?\n",
    "│ ├── Móviles → ¿Android o iOS?\n",
    "│ │ ├── Android → Kotlin\n",
    "│ │ └── iOS → Swift\n",
    "│ └── Escritorio → C# o Java\n",
    "└── No → ¿Datos o Hardware?\n",
    "├── Datos → Jupyter NoteBook\n",
    "└── Hardware → C o C++\n",
    "'''\n",
    "#Conjunto de deciones\n",
    "desarrollo = [\"Web\", \"Aplicaciones\", \"Datos\", \"Hardware\"]\n",
    "web = [\"Fronted\", \"Backend\"]\n",
    "python = [\"Si\", \"No\"]\n",
    "aplicaciones = [\"Móviles\", \"Escritorio\"]\n",
    "moviles = [\"Android\", \"iOS\"]\n",
    "\n",
    "\n",
    "\n",
    "#Resultado de la encuesta\n",
    "data = pd.DataFrame({\n",
    "    \"desarrollo\": pd.Series([\"Web\", \"Datos\", \"Aplicaciones\"], index=[\"Juan\", \"Ana\", \"Alfredo\"]),\n",
    "    \"web\": pd.Series([\"Backend\", \"NaN\", \"NaN\"], index=[\"Juan\", \"Ana\", \"Alfredo\"]),\n",
    "    \"python\": pd.Series([\"No\", \"NaN\", \"NaN\"], index=[\"Juan\", \"Ana\", \"Alfredo\"]),\n",
    "    \"aplicaciones\": pd.Series([\"NaN\", \"NaN\", \"Móviles\"], index=[\"Juan\", \"Ana\", \"Alfredo\"]),\n",
    "    \"moviles\": pd.Series([\"NaN\", \"NaN\", \"Android\"], index=[\"Juan\", \"Ana\", \"Alfredo\"]),\n",
    "}, dtype=\"str\")\n",
    "\n",
    "for i in data.index:\n",
    "    if data[\"desarrollo\"].loc[i]==\"Web\": #Desarrolla web\n",
    "        if data[\"web\"].loc[i]==\"Backend\": #Backend\n",
    "            if data[\"python\"].loc[i]==\"Si\": #Python\n",
    "                print(i,\": Estudia Python para desarrollo de\", data[\"desarrollo\"].loc[i], \"en\", data[\"web\"].loc[i]) #Si\n",
    "            else: print(i,\": Estudia Node.js para desarrollo de\", data[\"desarrollo\"].loc[i], \"en\", data[\"web\"].loc[i]) #No\n",
    "            \n",
    "        else: print(i,\": Estudia JavaScript para desarrollo de\", data[\"desarrollo\"].loc[i], \"en\", data[\"web\"].loc[i]) #Fronted\n",
    "\n",
    "    elif data[\"desarrollo\"].loc[i]==\"Aplicaciones\": #Desarrolla aplicaciones\n",
    "        if data[\"aplicaciones\"].loc[i]==\"Móviles\": #Móviles\n",
    "            if data[\"moviles\"].loc[i]==\"Android\": #Android\n",
    "                print(i, \": Estudia Kotlin para desarrollo de\", data[\"desarrollo\"].loc[i], \"en\", data[\"moviles\"].loc[i]) \n",
    "            else: print(i, \": Estudia Swift para desarrollo de\", data[\"desarrollo\"].loc[i], \"en\", data[\"moviles\"].loc[i]) #iOS\n",
    "        else: print(i, \": Estudia C# o Java para desarrollo de\", data[\"desarrollo\"].loc[i], \"en\", data[\"aplicaciones\"].loc[i]) #Escritorio\n",
    "\n",
    "    elif data[\"desarrollo\"].loc[i]==\"Datos\": #Desarrolla Datos\n",
    "        print(i, \": Estudia JupyterNotebook para desarrollo de\", data[\"desarrollo\"].loc[i])\n",
    "\n",
    "    elif data[\"desarrollo\"].loc[i]==\"Hardware\": #Desarrolla Hardware\n",
    "        print(i,\": Estudia C o C++ para desarrollo de\", data[\"desarrollo\"].loc[i])\n",
    "\n",
    "    else: print(\"Error\")"
   ]
  }
 ],
 "metadata": {
  "kernelspec": {
   "display_name": "Python 3",
   "language": "python",
   "name": "python3"
  },
  "language_info": {
   "codemirror_mode": {
    "name": "ipython",
    "version": 3
   },
   "file_extension": ".py",
   "mimetype": "text/x-python",
   "name": "python",
   "nbconvert_exporter": "python",
   "pygments_lexer": "ipython3",
   "version": "3.12.1"
  }
 },
 "nbformat": 4,
 "nbformat_minor": 5
}
