{
 "cells": [
  {
   "cell_type": "markdown",
   "id": "dfafca31",
   "metadata": {},
   "source": [
    "To learn:\n",
    "\n",
    "- return/print\n",
    "- global/local"
   ]
  },
  {
   "cell_type": "code",
   "execution_count": 1,
   "id": "d314fe97",
   "metadata": {},
   "outputs": [
    {
     "name": "stdout",
     "output_type": "stream",
     "text": [
      "Nombre: Juan Miguel\n",
      "Apellidos: Fernández Álvarez\n",
      "Número: 657890789\n",
      "Email: jmfa2009@gmail.com\n"
     ]
    }
   ],
   "source": [
    "# Los diccionarios se trabajan de forma similar a los df\n",
    "contacto = {\n",
    "    \"Nombre\": \"Juan Miguel\",\n",
    "    \"Apellidos\": \"Fernández Álvarez\",\n",
    "    \"Número\": \"657890789\",\n",
    "    \"Email\": \"jmfa2009@gmail.com\"\n",
    "}\n",
    "\n",
    "# Para acceder al contenido de cada lista\n",
    "for data in contacto:\n",
    "    print(f\"{data}: {contacto[data]}\")"
   ]
  },
  {
   "cell_type": "markdown",
   "id": "f0eb7b62",
   "metadata": {},
   "source": [
    "# diferencia entre return y print"
   ]
  },
  {
   "cell_type": "code",
   "execution_count": null,
   "id": "78143b92",
   "metadata": {},
   "outputs": [
    {
     "name": "stdout",
     "output_type": "stream",
     "text": [
      "[1050.0, 2625.0, 4200.0, 6300.0]\n"
     ]
    }
   ],
   "source": [
    "#Map nos permite ejercutar una operación establecida por una función en una sola línea\n",
    "inversiones = [1000, 2500, 4000, 6000]\n",
    "\n",
    "def retorno(c):\n",
    "    return c*1.05\n",
    "\n",
    "result=map(retorno, inversiones)\n",
    "print(list(result))"
   ]
  },
  {
   "cell_type": "code",
   "execution_count": 4,
   "id": "adae3473",
   "metadata": {},
   "outputs": [
    {
     "name": "stdout",
     "output_type": "stream",
     "text": [
      "[1050, 2120, 3200]\n"
     ]
    }
   ],
   "source": [
    "#Calculamos el valor presente de diversas inversiones usando map y lambda\n",
    "capital = [1000, 2000, 3000]\n",
    "intereses = [50, 120, 200]\n",
    "\n",
    "c=list(map(lambda c,i: c+i, capital, intereses))\n",
    "print(c)"
   ]
  },
  {
   "cell_type": "code",
   "execution_count": null,
   "id": "20e2fd9e",
   "metadata": {},
   "outputs": [
    {
     "data": {
      "text/plain": [
       "['eur', 'Euro']"
      ]
     },
     "execution_count": 15,
     "metadata": {},
     "output_type": "execute_result"
    }
   ],
   "source": [
    "#De una lista de valores, puedo bucar los activos por su nombre haciendo uso de filter.\n",
    "activos=[\"Apple\", \"Nvidia\", \"Amazon\", \"Google\"]\n",
    "\n",
    "def buscar(i):\n",
    "    return i.startswith(\"A\")\n",
    "\n",
    "act_a=list(filter(buscar, activos))\n",
    "\n",
    "#De una lista de divisas, podemos filtrar la que contenga el euro:\n",
    "divisas = [\"USD\", \"YEN\", \"dollar\", \"Euro\", \"PESO\"]\n",
    "\n",
    "moneda=list(filter(lambda x: \"eur\" in x.lower(), divisas))\n",
    "\n",
    "moneda"
   ]
  },
  {
   "cell_type": "code",
   "execution_count": 95,
   "id": "5cc75706",
   "metadata": {},
   "outputs": [
    {
     "name": "stdout",
     "output_type": "stream",
     "text": [
      "La rentabilidad esperada de la cartera es de: 25.34 %\n",
      "---------------------------------------------------------------------------\n",
      "El activo con mayor rentabilidad es Nvidia, con un valor de 75.9 %\n",
      "---------------------------------------------------------------------------\n",
      "El activo con mayor peso es Google, con un valor de 50.0 %\n"
     ]
    }
   ],
   "source": [
    "#Ampliación: Cartera de inversión\n",
    "import pandas as pd\n",
    "import numpy as np\n",
    "'''\n",
    "Calcula la rentabilidad esperada de una cartera, el activo más rentable y con mayor peso\n",
    "\n",
    "'''\n",
    "\n",
    "#Pesos de cada activo\n",
    "matriz=[[0.25, 0.291], # Apple\n",
    "        [0.5, 0.251], #Google\n",
    "        [0.05,0.759], #Nvidia\n",
    "        [0.15, 0.053], #Tesla\n",
    "        [0.05, 0.185]] #Microsoft\n",
    "\n",
    "matriz=pd.DataFrame(matriz, \n",
    "                    columns=[\"Pesos\", \"Rentabilidades\"], \n",
    "                    index=[\"Apple\", \"Google\", \"Nvidia\", \"Tesla\", \"Microsoft\"])\n",
    "\n",
    "#Definimos y ejecutamos la función\n",
    "def est_des_cartera(p,r):\n",
    "    print(\"La rentabilidad esperada de la cartera es de:\", round(np.sum(p*r)*100,2), \"%\")\n",
    "    print(\"---------------------------------------------------------------------------\")\n",
    "    print(\"El activo con mayor rentabilidad es\", r.idxmax()+\", con un valor de\", round(np.max(r)*100,2), \"%\")\n",
    "    print(\"---------------------------------------------------------------------------\")\n",
    "    print(\"El activo con mayor peso es\", p.idxmax()+\", con un valor de\", round(np.max(p)*100,2), \"%\")\n",
    "\n",
    "\n",
    "est_des_cartera(matriz[\"Pesos\"], matriz[\"Rentabilidades\"])"
   ]
  }
 ],
 "metadata": {
  "kernelspec": {
   "display_name": "Python 3",
   "language": "python",
   "name": "python3"
  },
  "language_info": {
   "codemirror_mode": {
    "name": "ipython",
    "version": 3
   },
   "file_extension": ".py",
   "mimetype": "text/x-python",
   "name": "python",
   "nbconvert_exporter": "python",
   "pygments_lexer": "ipython3",
   "version": "3.12.1"
  }
 },
 "nbformat": 4,
 "nbformat_minor": 5
}
