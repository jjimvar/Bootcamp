{
 "cells": [
  {
   "cell_type": "markdown",
   "id": "9474443b",
   "metadata": {},
   "source": [
    "## LISTAS"
   ]
  },
  {
   "cell_type": "code",
   "execution_count": 1,
   "id": "50fb2d35",
   "metadata": {},
   "outputs": [
    {
     "data": {
      "text/plain": [
       "5"
      ]
     },
     "execution_count": 1,
     "metadata": {},
     "output_type": "execute_result"
    }
   ],
   "source": [
    "lista_normal=[2,5,6,78,9]\n",
    "len(lista_normal)"
   ]
  },
  {
   "cell_type": "code",
   "execution_count": 2,
   "id": "230da6ad",
   "metadata": {},
   "outputs": [
    {
     "name": "stdout",
     "output_type": "stream",
     "text": [
      "2 9\n"
     ]
    }
   ],
   "source": [
    "#Accedemosal pirmer y último elemento\n",
    "print(lista_normal[0], lista_normal[-1])"
   ]
  },
  {
   "cell_type": "code",
   "execution_count": 5,
   "id": "13bb03fd",
   "metadata": {},
   "outputs": [
    {
     "name": "stdout",
     "output_type": "stream",
     "text": [
      "8\n"
     ]
    }
   ],
   "source": [
    "#Cambiamos elementos\n",
    "lista_normal[3]=8\n",
    "print(lista_normal[3])"
   ]
  },
  {
   "cell_type": "code",
   "execution_count": 7,
   "id": "caa50f0a",
   "metadata": {},
   "outputs": [
    {
     "name": "stdout",
     "output_type": "stream",
     "text": [
      "[2, 5, 6, 8, 9, 11, 11]\n",
      "------------------------------\n",
      "[2, 3, 5, 6, 8, 9, 11, 11]\n"
     ]
    }
   ],
   "source": [
    "#Añadimos un elemento\n",
    "lista_normal.append(11)\n",
    "print(lista_normal)\n",
    "#Añaidmos un elemento en una psoción concreta\n",
    "lista_normal.insert(1,3)\n",
    "print(\"------------------------------\")\n",
    "print(lista_normal)"
   ]
  },
  {
   "cell_type": "code",
   "execution_count": null,
   "id": "ea862233",
   "metadata": {},
   "outputs": [
    {
     "name": "stdout",
     "output_type": "stream",
     "text": [
      "[3, 5, 6, 8, 9, 11, 11]\n"
     ]
    }
   ],
   "source": [
    "#Eliminar un elemento\n",
    "lista_normal.pop(0)\n",
    "print(lista_normal)"
   ]
  },
  {
   "cell_type": "code",
   "execution_count": 9,
   "id": "59f9bf0b",
   "metadata": {},
   "outputs": [
    {
     "name": "stdout",
     "output_type": "stream",
     "text": [
      "[3, 5, 6, 8, 9, 11]\n"
     ]
    }
   ],
   "source": [
    "lista_normal.remove(11)\n",
    "print(lista_normal)"
   ]
  },
  {
   "cell_type": "code",
   "execution_count": 10,
   "id": "9d84558b",
   "metadata": {},
   "outputs": [
    {
     "name": "stdout",
     "output_type": "stream",
     "text": [
      "[9, 11]\n"
     ]
    }
   ],
   "source": [
    "#Eliminar un conjunto de datos\n",
    "del lista_normal[0:4]\n",
    "print(lista_normal)"
   ]
  },
  {
   "cell_type": "code",
   "execution_count": 3,
   "id": "30e29814",
   "metadata": {},
   "outputs": [
    {
     "name": "stdout",
     "output_type": "stream",
     "text": [
      "9\n",
      "78\n",
      "6\n",
      "5\n",
      "2\n"
     ]
    }
   ],
   "source": [
    "#Bucle para mostrar la lista al revés:\n",
    "for i in range(len(lista_normal)-1, -1, -1):\n",
    "    print(lista_normal[i])"
   ]
  },
  {
   "cell_type": "code",
   "execution_count": null,
   "id": "ec8f0baa",
   "metadata": {},
   "outputs": [],
   "source": [
    "#Bucle para ver el tipo de datos en una lista mixta\n",
    "mix = [42, True, \"towel\", [2,1], 'hello', 34.4, {\"name\": \"juan\"}]\n",
    "\n",
    "for item in mix:\n",
    "    print(type(item))\n",
    "\n",
    "#Seleccionamos los diccionarios y listas\n",
    "new_list = []\n",
    "\n",
    "# Your code here\n",
    "for i in my_list:\n",
    "    if type(i) == dict or type(i) == list:\n",
    "        new_list.append(i)\n",
    "\n",
    "print(new_list)"
   ]
  },
  {
   "cell_type": "code",
   "execution_count": null,
   "id": "bcd12d2c",
   "metadata": {},
   "outputs": [
    {
     "name": "stdout",
     "output_type": "stream",
     "text": [
      "5\n",
      "43\n",
      "45\n",
      "23\n",
      "67\n",
      "23\n",
      "45\n"
     ]
    }
   ],
   "source": [
    "my_list = [4,5,734,43,45,100,4,56,23,67,23,58,45]\n",
    "\n",
    "for i in my_list:\n",
    "    if i %2 !=0: #No dividible entre 2\n",
    "        print(i)"
   ]
  },
  {
   "cell_type": "code",
   "execution_count": null,
   "id": "528dc94b",
   "metadata": {},
   "outputs": [],
   "source": [
    "my_list = [3344,34334,454543,342534,4563456,3445,23455,234,262,2335,43323,4356,345,4545,452,345,434,36,345,4334,5454,345,4352,23,365,345,47,63,425,6578759,768,834,754,35,32,445,453456,56,7536867,3884526,4234,35353245,53244523,566785,7547,743,4324,523472634,26665,63432,54645,32,453625,7568,5669576,754,64356,542644,35,243,371,3251,351223,13231243,734,856,56,53,234342,56,545343]\n",
    "\n",
    "\n",
    "for i in my_list:\n",
    "    if (i%14==0): #Divisible entre 14\n",
    "        print(i)"
   ]
  },
  {
   "cell_type": "code",
   "execution_count": null,
   "id": "d36f9353",
   "metadata": {},
   "outputs": [],
   "source": [
    "# Calcular la media\n",
    "\n",
    "lista=[3,9,7,2,65,81,654,9]\n",
    "\n",
    "def media(list):\n",
    "    sum=0\n",
    "    for i in list:\n",
    "        sum+=i\n",
    "    media=sum/len(list)\n",
    "    return media\n",
    "\n",
    "print(media(lista))\n"
   ]
  },
  {
   "cell_type": "markdown",
   "id": "e4a50b32",
   "metadata": {},
   "source": [
    "## Funciones"
   ]
  },
  {
   "cell_type": "code",
   "execution_count": 4,
   "id": "c6c63a20",
   "metadata": {},
   "outputs": [
    {
     "name": "stdout",
     "output_type": "stream",
     "text": [
      "Para 4000 invitados, el coste de la fiesta es 36000.0\n"
     ]
    }
   ],
   "source": [
    "'''Estudiamos el caso de estimar el coste de una fiesta según el numero de asistentes.\n",
    "- Primero conocemos el número de invitados\n",
    "- El coste general es de 10€\n",
    "- Si hay mas de 200, descuento del 10%'''\n",
    "\n",
    "def calcular_coste(nperson):\n",
    "    precio=10\n",
    "    coste=precio*nperson\n",
    "    if nperson>200:\n",
    "        coste=coste*(1-0.1)\n",
    "    print(\"Para\", nperson, \"invitados, el coste de la fiesta es\", coste)\n",
    "\n",
    "calcular_coste(4000)"
   ]
  },
  {
   "cell_type": "code",
   "execution_count": null,
   "id": "78143b92",
   "metadata": {},
   "outputs": [
    {
     "data": {
      "text/html": [
       "<div>\n",
       "<style scoped>\n",
       "    .dataframe tbody tr th:only-of-type {\n",
       "        vertical-align: middle;\n",
       "    }\n",
       "\n",
       "    .dataframe tbody tr th {\n",
       "        vertical-align: top;\n",
       "    }\n",
       "\n",
       "    .dataframe thead th {\n",
       "        text-align: right;\n",
       "    }\n",
       "</style>\n",
       "<table border=\"1\" class=\"dataframe\">\n",
       "  <thead>\n",
       "    <tr style=\"text-align: right;\">\n",
       "      <th></th>\n",
       "      <th>Pesos</th>\n",
       "      <th>Rentabilidades</th>\n",
       "    </tr>\n",
       "  </thead>\n",
       "  <tbody>\n",
       "    <tr>\n",
       "      <th>Apple</th>\n",
       "      <td>0.25</td>\n",
       "      <td>0.291</td>\n",
       "    </tr>\n",
       "    <tr>\n",
       "      <th>Google</th>\n",
       "      <td>0.50</td>\n",
       "      <td>0.251</td>\n",
       "    </tr>\n",
       "    <tr>\n",
       "      <th>Nvidia</th>\n",
       "      <td>0.05</td>\n",
       "      <td>0.759</td>\n",
       "    </tr>\n",
       "    <tr>\n",
       "      <th>Tesla</th>\n",
       "      <td>0.15</td>\n",
       "      <td>0.053</td>\n",
       "    </tr>\n",
       "    <tr>\n",
       "      <th>Microsoft</th>\n",
       "      <td>0.05</td>\n",
       "      <td>0.185</td>\n",
       "    </tr>\n",
       "  </tbody>\n",
       "</table>\n",
       "</div>"
      ],
      "text/plain": [
       "           Pesos  Rentabilidades\n",
       "Apple       0.25           0.291\n",
       "Google      0.50           0.251\n",
       "Nvidia      0.05           0.759\n",
       "Tesla       0.15           0.053\n",
       "Microsoft   0.05           0.185"
      ]
     },
     "execution_count": 27,
     "metadata": {},
     "output_type": "execute_result"
    }
   ],
   "source": [
    "\n",
    "matriz"
   ]
  },
  {
   "cell_type": "code",
   "execution_count": 95,
   "id": "5cc75706",
   "metadata": {},
   "outputs": [
    {
     "name": "stdout",
     "output_type": "stream",
     "text": [
      "La rentabilidad esperada de la cartera es de: 25.34 %\n",
      "---------------------------------------------------------------------------\n",
      "El activo con mayor rentabilidad es Nvidia, con un valor de 75.9 %\n",
      "---------------------------------------------------------------------------\n",
      "El activo con mayor peso es Google, con un valor de 50.0 %\n"
     ]
    }
   ],
   "source": [
    "#Ampliación: Cartera de inversión\n",
    "import pandas as pd\n",
    "import numpy as np\n",
    "'''\n",
    "Calcula la rentabilidad esperada de una cartera, el activo más rentable y con mayor peso\n",
    "\n",
    "'''\n",
    "\n",
    "#Pesos de cada activo\n",
    "matriz=[[0.25, 0.291], # Apple\n",
    "        [0.5, 0.251], #Google\n",
    "        [0.05,0.759], #Nvidia\n",
    "        [0.15, 0.053], #Tesla\n",
    "        [0.05, 0.185]] #Microsoft\n",
    "\n",
    "matriz=pd.DataFrame(matriz, \n",
    "                    columns=[\"Pesos\", \"Rentabilidades\"], \n",
    "                    index=[\"Apple\", \"Google\", \"Nvidia\", \"Tesla\", \"Microsoft\"])\n",
    "\n",
    "#Definimos y ejecutamos la función\n",
    "def est_des_cartera(p,r):\n",
    "    print(\"La rentabilidad esperada de la cartera es de:\", round(np.sum(p*r)*100,2), \"%\")\n",
    "    print(\"---------------------------------------------------------------------------\")\n",
    "    print(\"El activo con mayor rentabilidad es\", r.idxmax()+\", con un valor de\", round(np.max(r)*100,2), \"%\")\n",
    "    print(\"---------------------------------------------------------------------------\")\n",
    "    print(\"El activo con mayor peso es\", p.idxmax()+\", con un valor de\", round(np.max(p)*100,2), \"%\")\n",
    "\n",
    "\n",
    "est_des_cartera(matriz[\"Pesos\"], matriz[\"Rentabilidades\"])"
   ]
  }
 ],
 "metadata": {
  "kernelspec": {
   "display_name": "Python 3",
   "language": "python",
   "name": "python3"
  },
  "language_info": {
   "codemirror_mode": {
    "name": "ipython",
    "version": 3
   },
   "file_extension": ".py",
   "mimetype": "text/x-python",
   "name": "python",
   "nbconvert_exporter": "python",
   "pygments_lexer": "ipython3",
   "version": "3.12.1"
  }
 },
 "nbformat": 4,
 "nbformat_minor": 5
}
