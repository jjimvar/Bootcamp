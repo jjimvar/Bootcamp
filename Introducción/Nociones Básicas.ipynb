{
 "cells": [
  {
   "cell_type": "markdown",
   "id": "3508c8bf",
   "metadata": {},
   "source": [
    "## 1. Operaciones"
   ]
  },
  {
   "cell_type": "code",
   "execution_count": null,
   "id": "b4c2f8ea",
   "metadata": {},
   "outputs": [
    {
     "name": "stdout",
     "output_type": "stream",
     "text": [
      "Valor inicial de x: 10\n",
      "\n",
      "----------------------------------------------------\n",
      "Después de x += 5, x es: 15\n",
      "\n",
      "----------------------------------------------------\n",
      "Después de x -= 3, x es: 12\n",
      "\n",
      "----------------------------------------------------\n",
      "Después de x *= 2, x es: 24\n",
      "\n",
      "----------------------------------------------------\n",
      "Después de x /= 4, x es: 6.0\n",
      "\n",
      "----------------------------------------------------\n",
      "Después de x //= 3, x es: 3\n",
      "\n",
      "----------------------------------------------------\n",
      "Después de x %= 3, x es: 1\n",
      "\n",
      "----------------------------------------------------\n",
      "Después de x **= 2, x es: 100\n",
      "\n"
     ]
    }
   ],
   "source": [
    "#Operadores de asignación\n",
    "x = 10\n",
    "print(f\"Valor inicial de x: {x}\\n\")\n",
    "# Suma\n",
    "print(\"----------------------------------------------------\")\n",
    "x += 5 \n",
    "print(f\"Después de x += 5, x es: {x}\\n\")\n",
    "\n",
    "# Resta\n",
    "print(\"----------------------------------------------------\")\n",
    "x -= 3 \n",
    "print(f\"Después de x -= 3, x es: {x}\\n\")\n",
    "\n",
    "# Multiplicacion\n",
    "print(\"----------------------------------------------------\")\n",
    "x *= 2 \n",
    "print(f\"Después de x *= 2, x es: {x}\\n\")\n",
    "\n",
    "# Division\n",
    "print(\"----------------------------------------------------\")\n",
    "x /= 4  \n",
    "print(f\"Después de x /= 4, x es: {x}\\n\")\n",
    "\n",
    "# División Entera\n",
    "print(\"----------------------------------------------------\")\n",
    "x = 10\n",
    "x //= 3\n",
    "print(f\"Después de x //= 3, x es: {x}\\n\")\n",
    "\n",
    "# Módulo (%=n): 1 si no es divisible, 0 si lo es\n",
    "print(\"----------------------------------------------------\")\n",
    "x = 10\n",
    "x %= 3 \n",
    "print(f\"Después de x %= 3, x es: {x}\\n, por lo que no seria divisible\")\n",
    "\n",
    "# Exponenciación (**=)\n",
    "print(\"----------------------------------------------------\")\n",
    "x = 10\n",
    "x **= 2\n",
    "print(f\"Después de x **= 2, x es: {x}\\n\")"
   ]
  },
  {
   "cell_type": "code",
   "execution_count": 3,
   "id": "8110d8c5",
   "metadata": {},
   "outputs": [
    {
     "data": {
      "text/plain": [
       "1"
      ]
     },
     "execution_count": 3,
     "metadata": {},
     "output_type": "execute_result"
    }
   ],
   "source": [
    "#El resto de la división de 19/3\n",
    "19%3"
   ]
  },
  {
   "cell_type": "markdown",
   "id": "76fcc812",
   "metadata": {},
   "source": [
    "## 2. Variables"
   ]
  },
  {
   "cell_type": "markdown",
   "id": "a02fdae4",
   "metadata": {},
   "source": [
    "#### 2.1. Listas"
   ]
  },
  {
   "cell_type": "code",
   "execution_count": null,
   "id": "98714488",
   "metadata": {},
   "outputs": [
    {
     "name": "stdout",
     "output_type": "stream",
     "text": [
      "Contenido de la lista: [2, 5, 6, 78, 9]\n",
      "--------------------------------------\n",
      "Tamaño de la lista: 5 valores\n",
      "Mostrar indice del valor 78: 3\n",
      "Contamos el numero de numeros 7: 0\n",
      "Ordenamos la lista de mayor a menor: [2, 5, 6, 9, 78]\n",
      "Accedemos al último y primer elemento: (2, 78)\n",
      "Sumamos 1 al primer valor: 3\n",
      "Añadimos un elemento: [3, 5, 6, 9, 78, 11]\n",
      "Añadimos mas de un elemento: [3, 5, 6, 9, 78, 11, 10, 24]\n",
      "Añadimos un elemento en una posición concreta: [1, 3, 5, 6, 9, 78, 11, 10, 24]\n",
      "Eliminamos el primer elemento añadido: [3, 5, 6, 9, 78, 11, 10, 24]\n",
      "Elimnamos el numero 11: [3, 5, 6, 9, 78, 10, 24]\n",
      "Eliminamos los 3 primeros elementos: [9, 78, 10, 24]\n",
      "Limpiamos los elementos de la lista: []\n"
     ]
    }
   ],
   "source": [
    "lista_normal=[2,5,6,78,9]\n",
    "print(f\"Contenido de la lista: {lista_normal}\")\n",
    "print(\"--------------------------------------\")\n",
    "print(f\"Tamaño de la lista: {len(lista_normal)} valores\")\n",
    "print(f\"Mostrar indice del valor 78: {lista_normal.index(78)}\")\n",
    "print(f\"Contamos el numero de numeros 7: {lista_normal.count(7)}\")\n",
    "lista_normal.sort(reverse=False) #True, de mayor a menor | False de menor a mayor\n",
    "print(f\"Ordenamos la lista de mayor a menor: {lista_normal}\")\n",
    "print(f\"Accedemos al último y primer elemento: {lista_normal[0], lista_normal[-1]}\")\n",
    "lista_normal[0]+=1\n",
    "print(f\"Sumamos 1 al primer valor: {lista_normal[0]}\")\n",
    "lista_normal.append(11) #Un solo elemento\n",
    "print(f\"Añadimos un elemento: {lista_normal}\")\n",
    "lista_normal.extend([10,24])\n",
    "print(f\"Añadimos mas de un elemento: {lista_normal}\")\n",
    "lista_normal.insert(0,1) #(posición, numero)\n",
    "print(f\"Añadimos un elemento en una posición concreta: {lista_normal}\")\n",
    "lista_normal.pop(0) #(n) indice a borrar\n",
    "print(f\"Eliminamos el primer elemento añadido: {lista_normal}\")\n",
    "lista_normal.remove(11) #indicamos el valor\n",
    "print(f\"Elimnamos el numero 11: {lista_normal}\")\n",
    "del lista_normal[0:3] #indicamos el indice: [inicio:fin-1:pasos]\n",
    "print(f\"Eliminamos los 3 primeros elementos: {lista_normal}\")\n",
    "lista_normal.clear()\n",
    "print(f\"Limpiamos los elementos de la lista: {lista_normal}\")"
   ]
  },
  {
   "cell_type": "code",
   "execution_count": 43,
   "id": "fae68942",
   "metadata": {},
   "outputs": [
    {
     "name": "stdout",
     "output_type": "stream",
     "text": [
      "[4, 6, 8]\n",
      "[4, 6, 8]\n",
      "[9, 8, 7, 6, 5, 4, 3, 2, 1, 0]\n"
     ]
    }
   ],
   "source": [
    "#Slicing: lista[inicio:fin-1:pasos]\n",
    "lista=list(range(10))\n",
    "print(lista[4:9:2])\n",
    "print(lista[slice(4,9,2)])\n",
    "print(lista[::-1])\n"
   ]
  },
  {
   "cell_type": "code",
   "execution_count": null,
   "id": "cd3edaf9",
   "metadata": {},
   "outputs": [
    {
     "data": {
      "text/plain": [
       "[4, 5, 6, 7, 8]"
      ]
     },
     "execution_count": 21,
     "metadata": {},
     "output_type": "execute_result"
    }
   ],
   "source": [
    "#Cambiar elementos\n",
    "lista_normal=[2,5,6,78,9]\n",
    "lista_normal[0]=4\n",
    "lista_normal[3:5]=[7,8]\n",
    "print(lista_normal)"
   ]
  },
  {
   "cell_type": "code",
   "execution_count": null,
   "id": "445ce370",
   "metadata": {},
   "outputs": [
    {
     "data": {
      "text/plain": [
       "[4, 5, 6, 7, 8, 9]"
      ]
     },
     "execution_count": 22,
     "metadata": {},
     "output_type": "execute_result"
    }
   ],
   "source": [
    "lista_normal[4:5]=[8,9] #nos centramos en el índice 4 y agrandamos la lista\n",
    "lista_normal"
   ]
  },
  {
   "cell_type": "code",
   "execution_count": 69,
   "id": "ba857178",
   "metadata": {},
   "outputs": [
    {
     "name": "stdout",
     "output_type": "stream",
     "text": [
      "[2, 3, 4, 7, 'hola', 'adios', 2, 3, 4, 7, 'hola', 'adios']\n",
      "[2, 3, 4, 7, 'hola', 'adios']\n"
     ]
    }
   ],
   "source": [
    "#Operaciones\n",
    "a=[2,3,4,7]\n",
    "b=[\"hola\", \"adios\"]\n",
    "#Duplicamos la suma de la lista\n",
    "c=(a+b)*2 \n",
    "print(c)\n",
    "#Eliminamos los duplicados\n",
    "d=set(c)\n",
    "d=list(d)\n",
    "print(d)"
   ]
  },
  {
   "cell_type": "markdown",
   "id": "f51eae9f",
   "metadata": {},
   "source": [
    "##### 2.1.1. Acceso listas anidadas"
   ]
  },
  {
   "cell_type": "code",
   "execution_count": 72,
   "id": "0f95e50a",
   "metadata": {},
   "outputs": [
    {
     "name": "stdout",
     "output_type": "stream",
     "text": [
      "Seleccionar\n",
      "Juan\n"
     ]
    }
   ],
   "source": [
    "lista_anidada = [[1, 2, 3],[\"a\", \"b\", \"c\"],[{\"Nombre\": \"Juan\", \"Edad\": \"40\"}, False],[3.14, 2.71],[[\"Seleccionar\",0], [10, 20]],[100, 200, 300]]\n",
    "# Para acceder a los elementos, indicamos la posición deseada por cada lista\n",
    "print(lista_anidada[4][0][0]) #seleccionar\n",
    "print(lista_anidada[2][0][\"Nombre\"]) #Juan"
   ]
  },
  {
   "cell_type": "markdown",
   "id": "17de8aac",
   "metadata": {},
   "source": [
    "##### 2.1.2. Bucles y condicionales con listas"
   ]
  },
  {
   "cell_type": "code",
   "execution_count": 74,
   "id": "9a112f82",
   "metadata": {},
   "outputs": [
    {
     "data": {
      "text/plain": [
       "[0, 1, 4, 9, 16]"
      ]
     },
     "execution_count": 74,
     "metadata": {},
     "output_type": "execute_result"
    }
   ],
   "source": [
    "#Creamos una lista con valores al cuadrado desde 0 a 4\n",
    "cuadrados=[x**2 for x in range(5)] #[expresión for elemento iterable]\n",
    "cuadrados"
   ]
  },
  {
   "cell_type": "code",
   "execution_count": null,
   "id": "85a8967f",
   "metadata": {},
   "outputs": [
    {
     "data": {
      "text/plain": [
       "[0, 4, 16]"
      ]
     },
     "execution_count": 57,
     "metadata": {},
     "output_type": "execute_result"
    }
   ],
   "source": [
    "#Lo hacemos solo con los pares\n",
    "pares_cuadrado=[x**2 for x in range(5) if x%2==0]\n",
    "pares_cuadrado"
   ]
  },
  {
   "cell_type": "code",
   "execution_count": 60,
   "id": "e541b95b",
   "metadata": {},
   "outputs": [
    {
     "data": {
      "text/plain": [
       "['PEDRO', 'MARÍA', 'SOFÍA']"
      ]
     },
     "execution_count": 60,
     "metadata": {},
     "output_type": "execute_result"
    }
   ],
   "source": [
    "#Ponemos en mayusculas las palabras con una longitud mayor a 4 palabras\n",
    "palabras = [\"Juan\", \"Ana\", \"Pedro\", \"María\", \"Sofía\"]\n",
    "largas_mayus=[palabra.upper() for palabra in palabras if len(palabra)>4]\n",
    "largas_mayus"
   ]
  },
  {
   "cell_type": "markdown",
   "id": "462df220",
   "metadata": {},
   "source": [
    "#### 2.2. Diccionarios"
   ]
  },
  {
   "cell_type": "code",
   "execution_count": null,
   "id": "fac4ec49",
   "metadata": {},
   "outputs": [
    {
     "data": {
      "text/plain": [
       "dict_items([('Betis', 'Sevilla'), ('Racing', 'Santander')])"
      ]
     },
     "execution_count": 2,
     "metadata": {},
     "output_type": "execute_result"
    }
   ],
   "source": [
    "#Diccionarios\n",
    "equipos_ciudad={}\n",
    "equipos_ciudad[\"Betis\"]=\"Sevilla\"\n",
    "equipos_ciudad[\"Racing\"]=\"Santander\"\n",
    "\n",
    "print(equipos_ciudad.keys())#keys\n",
    "equipos_ciudad.values() #valor de cada key\n",
    "equipos_ciudad.items() #tupla por cada pareja valor, key"
   ]
  },
  {
   "cell_type": "code",
   "execution_count": null,
   "id": "9c7c54f3",
   "metadata": {},
   "outputs": [
    {
     "data": {
      "text/plain": [
       "'Sevilla'"
      ]
     },
     "execution_count": 8,
     "metadata": {},
     "output_type": "execute_result"
    }
   ],
   "source": [
    "equipos_ciudad.get(\"Betis\", \"No disponible\") \n",
    "#Busca el valor de la clave Betis y si no hay nada pone no disponible"
   ]
  },
  {
   "cell_type": "code",
   "execution_count": null,
   "id": "291e18fb",
   "metadata": {},
   "outputs": [
    {
     "data": {
      "text/plain": [
       "{'primero': ['rojo', 'blanco'], 'segundo': ['verde', 'blanco']}"
      ]
     },
     "execution_count": 9,
     "metadata": {},
     "output_type": "execute_result"
    }
   ],
   "source": [
    "#otra forma de crear diccionarios\n",
    "colores=dict(primero=[\"rojo\", \"blanco\"], segundo=[\"verde\", \"blanco\"])\n",
    "colores"
   ]
  },
  {
   "cell_type": "code",
   "execution_count": 3,
   "id": "7b9028f5",
   "metadata": {},
   "outputs": [
    {
     "data": {
      "text/plain": [
       "{1, 2, 3, 4, 5, 6, 11}"
      ]
     },
     "execution_count": 3,
     "metadata": {},
     "output_type": "execute_result"
    }
   ],
   "source": [
    "#Eliminar duplicados y ordena de mayor a menor\n",
    "dicc={1,2,3,4,3,2,1,11,3,3,3,5,5,5,3,4,6}\n",
    "dicc"
   ]
  },
  {
   "cell_type": "markdown",
   "id": "359ef4f1",
   "metadata": {},
   "source": [
    "#### 2.3. Bucles y variables"
   ]
  },
  {
   "cell_type": "code",
   "execution_count": 40,
   "id": "e2148496",
   "metadata": {},
   "outputs": [
    {
     "name": "stdout",
     "output_type": "stream",
     "text": [
      "<class 'int'>\n",
      "<class 'bool'>\n",
      "<class 'str'>\n",
      "<class 'list'>\n",
      "<class 'str'>\n",
      "<class 'float'>\n",
      "<class 'dict'>\n",
      "[[2, 1], {'name': 'juan'}]\n"
     ]
    }
   ],
   "source": [
    "#Bucle para ver el tipo de datos en una lista mixta\n",
    "mix = [42, True, \"towel\", [2,1], 'hello', 34.4, {\"name\": \"juan\"}]\n",
    "\n",
    "for item in mix:\n",
    "    print(type(item))\n",
    "\n",
    "#Seleccionamos los diccionarios y listas\n",
    "new_list = []\n",
    "\n",
    "# Your code here\n",
    "for i in mix:\n",
    "    if type(i) == dict or type(i) == list:\n",
    "        new_list.append(i)\n",
    "\n",
    "print(new_list)"
   ]
  },
  {
   "cell_type": "markdown",
   "id": "75e2bd95",
   "metadata": {},
   "source": [
    "## 3. Bucles"
   ]
  },
  {
   "cell_type": "markdown",
   "id": "976d0717",
   "metadata": {},
   "source": [
    "#### 3.1. For"
   ]
  },
  {
   "cell_type": "code",
   "execution_count": 47,
   "id": "abe6af07",
   "metadata": {},
   "outputs": [
    {
     "name": "stdout",
     "output_type": "stream",
     "text": [
      "2\n",
      "4\n",
      "6\n",
      "8\n",
      "10\n",
      "---\n",
      "10\n",
      "8\n",
      "6\n",
      "4\n",
      "2\n"
     ]
    }
   ],
   "source": [
    "#Range(inicio, fin, pasos) \n",
    "for i in range(2,11,2): #inicio por defecto es 0, fin nunca se alcanza\n",
    "    print(i)\n",
    "\n",
    "print(\"---\")\n",
    "#De menor a mayor\n",
    "for i in range(10,1,-2):\n",
    "    print(i)"
   ]
  },
  {
   "cell_type": "code",
   "execution_count": 48,
   "id": "55466a49",
   "metadata": {},
   "outputs": [
    {
     "name": "stdout",
     "output_type": "stream",
     "text": [
      "P\n",
      "y\n",
      "t\n"
     ]
    }
   ],
   "source": [
    "for letra in \"Python\":\n",
    "    if letra ==\"h\":\n",
    "        break # Termina el bucle antes de que haya completado todas sus iteraciones.\n",
    "    print(letra)"
   ]
  },
  {
   "cell_type": "code",
   "execution_count": 49,
   "id": "10b7716f",
   "metadata": {},
   "outputs": [
    {
     "name": "stdout",
     "output_type": "stream",
     "text": [
      "P\n",
      "y\n",
      "t\n",
      "o\n",
      "n\n"
     ]
    }
   ],
   "source": [
    "for letra in \"Python\":\n",
    "    if letra==\"h\":\n",
    "        continue # Salta a la siguiente iteración del bucle, omitiendo el código que sigue después.\n",
    "    print(letra)"
   ]
  },
  {
   "cell_type": "code",
   "execution_count": 50,
   "id": "292cd203",
   "metadata": {},
   "outputs": [
    {
     "name": "stdout",
     "output_type": "stream",
     "text": [
      "P\n",
      "y\n",
      "t\n",
      "h\n",
      "o\n",
      "n\n"
     ]
    }
   ],
   "source": [
    "for letra in \"Python\":\n",
    "    if letra == \"h\":\n",
    "        pass #Actúa como un marcador de posición donde se requiere una declaración sintácticamente, pero no se desea ejecutar ningún código\n",
    "    print(letra)"
   ]
  },
  {
   "cell_type": "markdown",
   "id": "5e9c7f82",
   "metadata": {},
   "source": [
    "Ejemplo 1: Bucle para mostrar el estado civil de forma abreviada"
   ]
  },
  {
   "cell_type": "code",
   "execution_count": 51,
   "id": "4fc1c71a",
   "metadata": {},
   "outputs": [
    {
     "name": "stdout",
     "output_type": "stream",
     "text": [
      "Juan se encuentra sin pareja\n",
      "Pedro se encuentra sin pareja\n",
      "Maria se encuentra con pareja\n"
     ]
    }
   ],
   "source": [
    "import pandas as pd\n",
    "#Ejemplo 1: Bucle para mostrar el estado civil de forma abreviada\n",
    "diccionario= {\n",
    "    \"Estado Civil\": pd.Series([\"Soltero\", \"Viudo\", \"Casado\"], index=[\"Juan\", \"Pedro\", \"Maria\"])}\n",
    "\n",
    "data=pd.DataFrame(diccionario)\n",
    "\n",
    "for i in data.index:\n",
    "    if data[\"Estado Civil\"].loc[i]==\"Casado\":\n",
    "        print(i, \"se encuentra con pareja\")\n",
    "    else: print(i, \"se encuentra sin pareja\")"
   ]
  },
  {
   "cell_type": "markdown",
   "id": "ceee19f8",
   "metadata": {},
   "source": [
    "Ejemplo 2: Algoritmo para decidir que lenguaje de programación estudiar"
   ]
  },
  {
   "cell_type": "code",
   "execution_count": null,
   "id": "4741746f",
   "metadata": {},
   "outputs": [
    {
     "name": "stdout",
     "output_type": "stream",
     "text": [
      "Juan : Estudia Node.js para desarrollo de Web en Backend\n",
      "Ana : Estudia JupyterNotebook para desarrollo de Datos\n",
      "Alfredo : Estudia Kotlin para desarrollo de Aplicaciones en Android\n"
     ]
    }
   ],
   "source": [
    "import pandas as pd\n",
    "''' Diagrama de decisión\n",
    "\n",
    "¿Quieres desarrollar software?\n",
    "├── Sí → ¿Web o aplicaciones?\n",
    "│ ├── Web → ¿Frontend o Backend?\n",
    "│ │ ├── Frontend → JavaScript\n",
    "│ │ └── Backend → ¿Te gusta Python?\n",
    "│ │ ├── Sí → Python\n",
    "│ │ └── No → Node.js\n",
    "│ └── Aplicaciones → ¿Móviles o Escritorio?\n",
    "│ ├── Móviles → ¿Android o iOS?\n",
    "│ │ ├── Android → Kotlin\n",
    "│ │ └── iOS → Swift\n",
    "│ └── Escritorio → C# o Java\n",
    "└── No → ¿Datos o Hardware?\n",
    "├── Datos → Jupyter NoteBook\n",
    "└── Hardware → C o C++\n",
    "'''\n",
    "#Conjunto de deciones\n",
    "desarrollo = [\"Web\", \"Aplicaciones\", \"Datos\", \"Hardware\"]\n",
    "web = [\"Fronted\", \"Backend\"]\n",
    "python = [\"Si\", \"No\"]\n",
    "aplicaciones = [\"Móviles\", \"Escritorio\"]\n",
    "moviles = [\"Android\", \"iOS\"]\n",
    "\n",
    "\n",
    "\n",
    "#Resultado de la encuesta\n",
    "data = pd.DataFrame({\n",
    "    \"desarrollo\": pd.Series([\"Web\", \"Datos\", \"Aplicaciones\"], index=[\"Juan\", \"Ana\", \"Alfredo\"]),\n",
    "    \"web\": pd.Series([\"Backend\", \"NaN\", \"NaN\"], index=[\"Juan\", \"Ana\", \"Alfredo\"]),\n",
    "    \"python\": pd.Series([\"No\", \"NaN\", \"NaN\"], index=[\"Juan\", \"Ana\", \"Alfredo\"]),\n",
    "    \"aplicaciones\": pd.Series([\"NaN\", \"NaN\", \"Móviles\"], index=[\"Juan\", \"Ana\", \"Alfredo\"]),\n",
    "    \"moviles\": pd.Series([\"NaN\", \"NaN\", \"Android\"], index=[\"Juan\", \"Ana\", \"Alfredo\"]),\n",
    "}, dtype=\"str\")\n",
    "\n",
    "for i in data.index:\n",
    "    if data[\"desarrollo\"].loc[i]==\"Web\": #Desarrolla web\n",
    "        if data[\"web\"].loc[i]==\"Backend\": #Backend\n",
    "            if data[\"python\"].loc[i]==\"Si\": #Python\n",
    "                print(i,\": Estudia Python para desarrollo de\", data[\"desarrollo\"].loc[i], \"en\", data[\"web\"].loc[i]) #Si\n",
    "            else: print(i,\": Estudia Node.js para desarrollo de\", data[\"desarrollo\"].loc[i], \"en\", data[\"web\"].loc[i]) #No\n",
    "            \n",
    "        else: print(i,\": Estudia JavaScript para desarrollo de\", data[\"desarrollo\"].loc[i], \"en\", data[\"web\"].loc[i]) #Fronted\n",
    "\n",
    "    elif data[\"desarrollo\"].loc[i]==\"Aplicaciones\": #Desarrolla aplicaciones\n",
    "        if data[\"aplicaciones\"].loc[i]==\"Móviles\": #Móviles\n",
    "            if data[\"moviles\"].loc[i]==\"Android\": #Android\n",
    "                print(i, \": Estudia Kotlin para desarrollo de\", data[\"desarrollo\"].loc[i], \"en\", data[\"moviles\"].loc[i]) \n",
    "            else: print(i, \": Estudia Swift para desarrollo de\", data[\"desarrollo\"].loc[i], \"en\", data[\"moviles\"].loc[i]) #iOS\n",
    "        else: print(i, \": Estudia C# o Java para desarrollo de\", data[\"desarrollo\"].loc[i], \"en\", data[\"aplicaciones\"].loc[i]) #Escritorio\n",
    "\n",
    "    elif data[\"desarrollo\"].loc[i]==\"Datos\": #Desarrolla Datos\n",
    "        print(i, \": Estudia JupyterNotebook para desarrollo de\", data[\"desarrollo\"].loc[i])\n",
    "\n",
    "    elif data[\"desarrollo\"].loc[i]==\"Hardware\": #Desarrolla Hardware\n",
    "        print(i,\": Estudia C o C++ para desarrollo de\", data[\"desarrollo\"].loc[i])\n",
    "\n",
    "    else: print(\"Error\")"
   ]
  },
  {
   "cell_type": "markdown",
   "id": "ce0ec0a6",
   "metadata": {},
   "source": [
    "#### 3.2. While"
   ]
  },
  {
   "cell_type": "markdown",
   "id": "430522ee",
   "metadata": {},
   "source": [
    "**Ejemplo aplicado a finanzas**:\n",
    "\n",
    "Inviertes 10,000 € en un fondo. El fondo genera una rentabilidad del 1% mensual (compuesta). Queremos saber:\n",
    "\n",
    "- ¿Cuántos meses tardarás en alcanzar un capital final de al menos 20,000 €?\n",
    "\n",
    "- ¿Cuánto habrás acumulado exactamente cuando termines?\n",
    "\n",
    "**Representamos horizonte temporal**\n",
    "\n",
    "|0| m1 | m2 | ... |mn|\n",
    "|---| --- | --- | --- |---|\n",
    "|-10000| 10000*1.01 | 10000*1.01^2 | ... |10000*1.01^n|\n",
    "\n",
    "De esta forma podemos definir la igualdad para determinar el numero de meses para alcanzas los 20000€:\n",
    "\n",
    "$10000*1.01^n>20000$\n",
    "\n",
    "$1,01^n>2$ \n",
    "\n",
    "$n>ln(2)/ln(1.01)$"
   ]
  },
  {
   "cell_type": "code",
   "execution_count": 55,
   "id": "e038cf84",
   "metadata": {},
   "outputs": [
    {
     "name": "stdout",
     "output_type": "stream",
     "text": [
      "Objetivo alcanzado en 70 meses\n",
      "Capital final acumulado: 20067.63 €\n"
     ]
    }
   ],
   "source": [
    "#SOLUCIÓN 1: Bucle con while\n",
    "c0=10000\n",
    "cn=20000\n",
    "ci=c0\n",
    "meses=0\n",
    "fc=1.01\n",
    "\n",
    "while cn>ci:\n",
    "    ci*=fc\n",
    "    meses += 1\n",
    "\n",
    "print(f\"Objetivo alcanzado en {meses} meses\")\n",
    "\n",
    "print(f\"Capital final acumulado: {ci:.2f} €\")\n",
    "#:.2f significa “formatear como número decimal con 2 cifras después del punto”\n"
   ]
  },
  {
   "cell_type": "code",
   "execution_count": null,
   "id": "eaac856e",
   "metadata": {},
   "outputs": [],
   "source": [
    "#Permite al usuario interatuar con el codigo, en este caso con el nombre\n",
    "nombre=input(\"Ingresa tu nombre\") \n",
    "print(nombre)"
   ]
  },
  {
   "cell_type": "code",
   "execution_count": null,
   "id": "7ba2f66b",
   "metadata": {},
   "outputs": [],
   "source": [
    "#Ejemplo ampliado\n",
    "# 1. Tipos de datos\n",
    "nombre = input(\"Por favor, ingresa tu nombre:\")\n",
    "edad = int(input(\"Por favor, ingresa tu edad:\"))\n",
    "\n",
    "# 2. Estructura de decisión\n",
    "if edad < 18:\n",
    "    estado = \"menor de edad\"\n",
    "    actividades = [\"estudiar\", \"andar en bicicleta\", \"salir con amigos\"]\n",
    "elif edad < 65:\n",
    "    estado = \"adulto\"\n",
    "    actividades = [\"trabajar\", \"leer un libro\", \"viajar\"]\n",
    "else:\n",
    "    estado = \"adulto mayor\"\n",
    "    actividades = [\"descansar\", \"leer el periódico\", \"pasear\"]\n",
    "\n",
    "# 3. Estructura de repetición\n",
    "print(f\"\\nHola, {nombre}. Eres un {estado}. Aquí hay algunas actividades que podrías considerar:\")\n",
    "for actividad in actividades:\n",
    "    print(f\"- {actividad}\")"
   ]
  },
  {
   "cell_type": "markdown",
   "id": "21977b07",
   "metadata": {},
   "source": [
    "Función lamda\n",
    "\n",
    "lamda argumentos: expresión"
   ]
  },
  {
   "cell_type": "code",
   "execution_count": null,
   "id": "b5f302cc",
   "metadata": {},
   "outputs": [
    {
     "name": "stdout",
     "output_type": "stream",
     "text": [
      "25\n"
     ]
    }
   ],
   "source": [
    "# Multiplicar por 5\n",
    "multiplicar_por_cinco = lambda a: a * 5\n",
    "\n",
    "print(multiplicar_por_cinco(5))"
   ]
  },
  {
   "cell_type": "code",
   "execution_count": 80,
   "id": "b3ba4f96",
   "metadata": {},
   "outputs": [
    {
     "name": "stdout",
     "output_type": "stream",
     "text": [
      "5\n"
     ]
    }
   ],
   "source": [
    "# Sumar 2 numeros\n",
    "suma=lambda a,b: a+b\n",
    "\n",
    "print(suma(2,3))"
   ]
  },
  {
   "cell_type": "code",
   "execution_count": 86,
   "id": "879573c9",
   "metadata": {},
   "outputs": [
    {
     "name": "stdout",
     "output_type": "stream",
     "text": [
      "Lista original: [('Elena', 150), ('Carlos', 90), ('David', 210)]\n",
      "Lista ordenada por puntuación: [('David', 210), ('Elena', 150), ('Carlos', 90)]\n"
     ]
    }
   ],
   "source": [
    "#Ordenar jugadores por puntuación\n",
    "jugadores = [('Elena', 150), ('Carlos', 90), ('David', 210)]\n",
    "\n",
    "lista_ordenada=sorted(jugadores, key=lambda jugador: jugador[1], reverse=True)\n",
    "\n",
    "print(f\"Lista original: {jugadores}\")\n",
    "print(f\"Lista ordenada por puntuación: {lista_ordenada}\")\n"
   ]
  }
 ],
 "metadata": {
  "kernelspec": {
   "display_name": "Python 3",
   "language": "python",
   "name": "python3"
  },
  "language_info": {
   "codemirror_mode": {
    "name": "ipython",
    "version": 3
   },
   "file_extension": ".py",
   "mimetype": "text/x-python",
   "name": "python",
   "nbconvert_exporter": "python",
   "pygments_lexer": "ipython3",
   "version": "3.13.5"
  }
 },
 "nbformat": 4,
 "nbformat_minor": 5
}
